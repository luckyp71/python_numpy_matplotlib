{
 "cells": [
  {
   "cell_type": "markdown",
   "metadata": {},
   "source": [
    "<h1 align=\"center\">Numpy and Matplotlib Example</h1>\n",
    "<br/><br/>\n",
    "<h2 align=\"center\">![title](resources/python.png)</h2>"
   ]
  },
  {
   "cell_type": "markdown",
   "metadata": {},
   "source": [
    "## Importing the libraries needed"
   ]
  },
  {
   "cell_type": "code",
   "execution_count": 59,
   "metadata": {
    "collapsed": true
   },
   "outputs": [],
   "source": [
    "import numpy as np\n",
    "import matplotlib.pyplot as plt\n",
    "import seaborn\n",
    "\n",
    "#Uncomment the code below to see the list of plotting style\n",
    "#print(plt.style.available)\n",
    "\n",
    "%matplotlib inline\n",
    "plt.style.use(\"fivethirtyeight\")\n",
    "seaborn.set()"
   ]
  },
  {
   "cell_type": "markdown",
   "metadata": {},
   "source": [
    "### Creating array using numpy"
   ]
  },
  {
   "cell_type": "markdown",
   "metadata": {},
   "source": [
    "#### 1d array"
   ]
  },
  {
   "cell_type": "code",
   "execution_count": 60,
   "metadata": {},
   "outputs": [
    {
     "name": "stdout",
     "output_type": "stream",
     "text": [
      "data1 [0 1 2 3 4 5 6 7 8 9]\n",
      "\n",
      "The length of dimension is 1 \n",
      "\n",
      "data11 [12  3  2  3] \n",
      "\n",
      "data12 [2 4 6 8]\n",
      "data types of data1, data11, data12 = <class 'numpy.ndarray'> \n",
      "\n",
      "Sum axis 0 = 20\n"
     ]
    }
   ],
   "source": [
    "data1 = np.arange(0,10)\n",
    "dimension = data1.ndim\n",
    "print(\"data1\",data1)\n",
    "print(\"\\nThe length of dimension is\",dimension,\"\\n\")\n",
    "\n",
    "# Another 1d array\n",
    "data11 = np.array([12,3,2,3])\n",
    "print(\"data11\",data11,\"\\n\")\n",
    "\n",
    "# Another 1d array using arange method with start, stop, and step parameters\n",
    "data12 = np.arange(2,10,2)\n",
    "print(\"data12\",data12)\n",
    "print(\"data types of data1, data11, data12 =\",type(data12),\"\\n\")\n",
    "\n",
    "# Sum axis 0 (rows)\n",
    "def sumAtAxis0(d):\n",
    "    print(\"Sum axis 0 =\",d.sum(axis=0))\n",
    "# Sum axis 0 of data12\n",
    "sumAtAxis0(data12)"
   ]
  },
  {
   "cell_type": "markdown",
   "metadata": {},
   "source": [
    "#### 2d array "
   ]
  },
  {
   "cell_type": "code",
   "execution_count": 61,
   "metadata": {},
   "outputs": [
    {
     "name": "stdout",
     "output_type": "stream",
     "text": [
      "[[0 1]\n",
      " [2 3]\n",
      " [4 5]\n",
      " [6 7]\n",
      " [8 9]]\n",
      "\n",
      "The length of dimension is 2 \n",
      "\n",
      "Sum of axis 0 = [20 25] \t Sum of axis 1 = [ 1  5  9 13 17]\n"
     ]
    }
   ],
   "source": [
    "data2 = np.arange(0,10).reshape(5,2)\n",
    "dimension = data2.ndim\n",
    "print(data2)\n",
    "print(\"\\nThe length of dimension is\", dimension,\"\\n\")\n",
    "\n",
    "def sumAxis01(d):\n",
    "    # Sum axis 0 (columns)\n",
    "    axis0 = d.sum(axis=0)\n",
    "    # Sum axis 1 (rows)\n",
    "    axis1 = d.sum(axis=1)\n",
    "    print(\"Sum of axis 0 =\",axis0,\"\\t\",\"Sum of axis 1 =\",axis1)\n",
    "\n",
    "sumAxis01(data2)"
   ]
  },
  {
   "cell_type": "markdown",
   "metadata": {},
   "source": [
    "#### 3d array"
   ]
  },
  {
   "cell_type": "code",
   "execution_count": 62,
   "metadata": {},
   "outputs": [
    {
     "name": "stdout",
     "output_type": "stream",
     "text": [
      "[[[ 0  1  2  3]\n",
      "  [ 4  5  6  7]\n",
      "  [ 8  9 10 11]]\n",
      "\n",
      " [[12 13 14 15]\n",
      "  [16 17 18 19]\n",
      "  [20 21 22 23]]]\n",
      "\n",
      "The length of dimension is 3 \n",
      "\n",
      "====== The sum of each axis ======\n",
      "[[12 14 16 18]\n",
      " [20 22 24 26]\n",
      " [28 30 32 34]] axis 0 \n",
      "\n",
      "[[12 15 18 21]\n",
      " [48 51 54 57]] axis 1 \n",
      "\n",
      "[[ 6 22 38]\n",
      " [54 70 86]] axis 2 \n",
      "\n"
     ]
    }
   ],
   "source": [
    "data3 = np.arange(0,24).reshape(2,3,4)\n",
    "dimension = data3.ndim\n",
    "print(data3)\n",
    "print(\"\\nThe length of dimension is\",dimension,\"\\n\")\n",
    "\n",
    "def sumAxis012(d):\n",
    "    return np.array([d.sum(axis=0), d.sum(axis=1), d.sum(axis=2)])\n",
    "\n",
    "print(\"====== The sum of each axis ======\")\n",
    "axisNumber = 0\n",
    "for element in sumAxis012(data3):\n",
    "    print(element,\"axis\",axisNumber,\"\\n\")\n",
    "    axisNumber+=1"
   ]
  },
  {
   "cell_type": "markdown",
   "metadata": {},
   "source": [
    "### Indexing & Slicing"
   ]
  },
  {
   "cell_type": "code",
   "execution_count": 63,
   "metadata": {},
   "outputs": [
    {
     "name": "stdout",
     "output_type": "stream",
     "text": [
      "Before indexing = [ 1  2  3  4  5  6  7  8  9 10]\n",
      "After indexing = [3 5 7]\n"
     ]
    }
   ],
   "source": [
    "# Create an array\n",
    "arr_data = np.arange(1,11)\n",
    "print(\"Before indexing =\",arr_data)\n",
    "# The parameters of indexing below are start, stop, and step respectively\n",
    "filtered_data = arr_data[2:7:2]\n",
    "print(\"After indexing =\",filtered_data)"
   ]
  },
  {
   "cell_type": "code",
   "execution_count": 33,
   "metadata": {},
   "outputs": [
    {
     "name": "stdout",
     "output_type": "stream",
     "text": [
      "[ 2  3  4  5  6  7  8  9 10]\n",
      "[ 2  3  4  5  6  7  8  9 10]\n",
      "[1 2]\n",
      "[1 2 3 4 5 6 7 8 9]\n",
      "[ 9 10]\n"
     ]
    }
   ],
   "source": [
    "# Slice the array from index 1 to the last\n",
    "print(arr_data[1:])\n",
    "\n",
    "# The slicing technique below will return the same value with the slicing technique above, \n",
    "# the only difference between them lies in the explicit definition of the last index,\n",
    "# but this is not effecient since we'd like to get the last index\n",
    "print(arr_data[1:11])\n",
    "\n",
    "# Slice the array from index 0 to index 2\n",
    "print(arr_data[:2])\n",
    "\n",
    "# Slice the array from index 0 to the second last index i.e. index 9\n",
    "print(arr_data[:-1])\n",
    "\n",
    "# Slice the array from the third last index to the last\n",
    "print(arr_data[-2:])"
   ]
  },
  {
   "cell_type": "markdown",
   "metadata": {},
   "source": [
    "###  Plotting using Matplotlib"
   ]
  },
  {
   "cell_type": "markdown",
   "metadata": {},
   "source": [
    "#### A simple scatter plot"
   ]
  },
  {
   "cell_type": "code",
   "execution_count": 73,
   "metadata": {},
   "outputs": [
    {
     "data": {
      "text/plain": [
       "<matplotlib.collections.PathCollection at 0x199aef031d0>"
      ]
     },
     "execution_count": 73,
     "metadata": {},
     "output_type": "execute_result"
    },
    {
     "data": {
      "image/png": "[encoded data removed]",
      "text/plain": [
       "<Figure size 432x288 with 1 Axes>"
      ]
     },
     "metadata": {},
     "output_type": "display_data"
    }
   ],
   "source": [
    "xdata = np.random.rand(50)\n",
    "ydata = np.random.rand(50)\n",
    "\n",
    "plt.title(\"The Correlation Between X and Y\")\n",
    "plt.xlabel(\"Data X\")\n",
    "plt.ylabel(\"Data Y\")\n",
    "colors = np.random.rand(50)\n",
    "plt.scatter(xdata, ydata, c=colors, alpha=0.7)"
   ]
  },
  {
   "cell_type": "markdown",
   "metadata": {},
   "source": [
    "#### A simple bar chart"
   ]
  },
  {
   "cell_type": "code",
   "execution_count": 74,
   "metadata": {},
   "outputs": [
    {
     "data": {
      "text/plain": [
       "<BarContainer object of 12 artists>"
      ]
     },
     "execution_count": 74,
     "metadata": {},
     "output_type": "execute_result"
    },
    {
     "data": {
      "image/png": "[encoded data removed]",
      "text/plain": [
       "<Figure size 720x288 with 1 Axes>"
      ]
     },
     "metadata": {},
     "output_type": "display_data"
    }
   ],
   "source": [
    "# Create a dictionary which contains dummy sales data\n",
    "sales_data = {\"January\":3500, \"February\":4000, \"March\":7000, \"April\":3500, \n",
    "              \"May\":6000, \"June\":7000, \"July\":3400, \"August\":4200, \"September\":8000,\n",
    "             \"October\":6000, \"November\":2100, \"December\":7000}\n",
    "\n",
    "months = list(sales_data.keys())\n",
    "sales = list(sales_data.values())\n",
    "colors = ['#624ea7', 'g', 'y', 'k', 'maroon', 'b', 'r', 'c', 'm', 'gray', 'orange', 'brown']\n",
    "plt.figure(figsize=(10 , 4))\n",
    "plt.bar(months, sales, color = colors, alpha = 0.7)"
   ]
  },
  {
   "cell_type": "markdown",
   "metadata": {},
   "source": [
    "#### Customize the bar chart background with temporary styling"
   ]
  },
  {
   "cell_type": "code",
   "execution_count": 67,
   "metadata": {
    "scrolled": true
   },
   "outputs": [
    {
     "data": {
      "image/png": "[encoded data removed]",
      "text/plain": [
       "<Figure size 720x360 with 1 Axes>"
      ]
     },
     "metadata": {},
     "output_type": "display_data"
    }
   ],
   "source": [
    "with plt.style.context('dark_background'):\n",
    "    plt.figure(figsize=(10,5))\n",
    "    plt.bar(months, sales, color='r', alpha = 0.5)"
   ]
  },
  {
   "cell_type": "markdown",
   "metadata": {},
   "source": [
    "#### Horizontal bar chart"
   ]
  },
  {
   "cell_type": "code",
   "execution_count": 68,
   "metadata": {},
   "outputs": [
    {
     "data": {
      "image/png": "[encoded data removed]",
      "text/plain": [
       "<Figure size 720x360 with 1 Axes>"
      ]
     },
     "metadata": {},
     "output_type": "display_data"
    }
   ],
   "source": [
    "with plt.style.context('dark_background'):\n",
    "    plt.figure(figsize=(10,5))\n",
    "    plt.barh(months, sales, color='orange', alpha=0.55)"
   ]
  }
 ],
 "metadata": {
  "celltoolbar": "Raw Cell Format",
  "kernelspec": {
   "display_name": "Python 3",
   "language": "python",
   "name": "python3"
  },
  "language_info": {
   "codemirror_mode": {
    "name": "ipython",
    "version": 3
   },
   "file_extension": ".py",
   "mimetype": "text/x-python",
   "name": "python",
   "nbconvert_exporter": "python",
   "pygments_lexer": "ipython3",
   "version": "3.6.3"
  }
 },
 "nbformat": 4,
 "nbformat_minor": 2
}
